{
  "nbformat": 4,
  "nbformat_minor": 0,
  "metadata": {
    "colab": {
      "provenance": [],
      "authorship_tag": "ABX9TyP3udsfCz9x8tBrAORQNl0n",
      "include_colab_link": true
    },
    "kernelspec": {
      "name": "python3",
      "display_name": "Python 3"
    },
    "language_info": {
      "name": "python"
    }
  },
  "cells": [
    {
      "cell_type": "markdown",
      "metadata": {
        "id": "view-in-github",
        "colab_type": "text"
      },
      "source": [
        "<a href=\"https://colab.research.google.com/github/shahlashahla584/Giaiccolab-projects/blob/main/Count_Down_Timer.ipynb\" target=\"_parent\"><img src=\"https://colab.research.google.com/assets/colab-badge.svg\" alt=\"Open In Colab\"/></a>"
      ]
    },
    {
      "cell_type": "code",
      "execution_count": null,
      "metadata": {
        "colab": {
          "base_uri": "https://localhost:8080/"
        },
        "id": "WWBbnb5uthfr",
        "outputId": "5cc093e0-4b5e-47d8-9ea2-b7152a4f7cb4"
      },
      "outputs": [
        {
          "output_type": "stream",
          "name": "stdout",
          "text": [
            "Enter the time in seconds: 8\n",
            "Timer completed!\n"
          ]
        }
      ],
      "source": [
        "import time\n",
        "\n",
        "\n",
        "def countdown(t):\n",
        "      while t:\n",
        "          mins, secs = divmod(t, 60)\n",
        "          timer = '{:02d}:{:02d}'.format(mins, secs)\n",
        "          print(timer, end=\"\\r\")\n",
        "          time.sleep(1)\n",
        "          t -= 1\n",
        "\n",
        "      print('Timer completed!')\n",
        "t = input('Enter the time in seconds: ')\n",
        "\n",
        "countdown(int(t))"
      ]
    }
  ]
}