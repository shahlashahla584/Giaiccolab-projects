{
  "nbformat": 4,
  "nbformat_minor": 0,
  "metadata": {
    "colab": {
      "provenance": [],
      "authorship_tag": "ABX9TyN1eW/OEca6dyL/UGwZHd9y",
      "include_colab_link": true
    },
    "kernelspec": {
      "name": "python3",
      "display_name": "Python 3"
    },
    "language_info": {
      "name": "python"
    }
  },
  "cells": [
    {
      "cell_type": "markdown",
      "metadata": {
        "id": "view-in-github",
        "colab_type": "text"
      },
      "source": [
        "<a href=\"https://colab.research.google.com/github/shahlashahla584/Giaiccolab-projects/blob/main/password_Generator.ipynb\" target=\"_parent\"><img src=\"https://colab.research.google.com/assets/colab-badge.svg\" alt=\"Open In Colab\"/></a>"
      ]
    },
    {
      "cell_type": "code",
      "execution_count": null,
      "metadata": {
        "colab": {
          "base_uri": "https://localhost:8080/"
        },
        "id": "WUzYLRcexd-I",
        "outputId": "7a0bda96-c12f-45bb-af0e-d4691b2ce9ae"
      },
      "outputs": [
        {
          "output_type": "stream",
          "name": "stdout",
          "text": [
            "welcome To your password Generator\n",
            "Amount of passwords to generate: 1\n",
            "Your password lenght: 9\n",
            "\n",
            "here are your paswords:\n",
            "xe!WqXPUX\n"
          ]
        }
      ],
      "source": [
        "import random\n",
        "\n",
        "print('welcome To your password Generator')\n",
        "\n",
        "chars = 'abcdefghijklmnopqrstuvwxyzABCDEFGHIJKLMNOPQRSTUVWXYZ!@E$%^&*().,?0123456789'\n",
        "\n",
        "number = input('Amount of passwords to generate: ')\n",
        "number = int(number)\n",
        "\n",
        "lenght = input('Your password lenght: ')\n",
        "lenght = int(lenght)\n",
        "\n",
        "print('\\nhere are your paswords:')\n",
        "\n",
        "for pwd in range(number):\n",
        "  passwords = ''\n",
        "  for c in range(lenght):\n",
        "    passwords += random.choice(chars)\n",
        "  print(passwords)\n"
      ]
    }
  ]
}