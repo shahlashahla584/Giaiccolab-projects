{
  "nbformat": 4,
  "nbformat_minor": 0,
  "metadata": {
    "colab": {
      "provenance": [],
      "authorship_tag": "ABX9TyMH84l9A0XJTaTtwqX3CnOz",
      "include_colab_link": true
    },
    "kernelspec": {
      "name": "python3",
      "display_name": "Python 3"
    },
    "language_info": {
      "name": "python"
    }
  },
  "cells": [
    {
      "cell_type": "markdown",
      "metadata": {
        "id": "view-in-github",
        "colab_type": "text"
      },
      "source": [
        "<a href=\"https://colab.research.google.com/github/shahlashahla584/Giaiccolab-projects/blob/main/Guess_The_Number(USER).ipynb\" target=\"_parent\"><img src=\"https://colab.research.google.com/assets/colab-badge.svg\" alt=\"Open In Colab\"/></a>"
      ]
    },
    {
      "cell_type": "code",
      "execution_count": null,
      "metadata": {
        "id": "YgE81n23Wx22",
        "colab": {
          "base_uri": "https://localhost:8080/"
        },
        "outputId": "dfb856cb-b9f1-4f1c-d734-301087385d5d"
      },
      "outputs": [
        {
          "output_type": "stream",
          "name": "stdout",
          "text": [
            "Is 5 too high (H), too low (L), or correct (c)??1\n",
            "Is 3 too high (H), too low (L), or correct (c)??h\n",
            "Is 2 too high (H), too low (L), or correct (c)??c\n",
            "Yay! The computer guessed your number, 2, correctly!\n"
          ]
        }
      ],
      "source": [
        "import random\n",
        "\n",
        "def guess(x):\n",
        "    random_number = random.randint(1,x)\n",
        "    guess= 0\n",
        "    while guess != random_number:\n",
        "       guess = int(input(f'Guess a number between 1 and {x}:'))\n",
        "       if guess < random_number:\n",
        "          print('sorry, guess again. Too low.')\n",
        "       elif guess > random_number:\n",
        "          print('sorry, guess again. Too high')\n",
        "\n",
        "    print(f'Yay, congrats. you have guessed the number {random_number} correctly!!')\n",
        "\n",
        "def computer_guess(x):\n",
        "    low = 1\n",
        "    high = x\n",
        "    feedback = ''\n",
        "    while feedback != \"c\":\n",
        "       if low != high:\n",
        "          guess = random.randint(low,high)\n",
        "       else:\n",
        "          guess = low  # could also be high b/c low = high\n",
        "       feedback = input(f'Is {guess} too high (H), too low (L), or correct (c)??').lower()\n",
        "       if feedback == 'h':\n",
        "         high = guess - 1\n",
        "       elif feedback == 'l':\n",
        "        low = guess + 1\n",
        "\n",
        "    print(f'Yay! The computer guessed your number, {guess}, correctly!')\n",
        "\n",
        "\n",
        "computer_guess(10)\n"
      ]
    }
  ]
}