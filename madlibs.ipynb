{
  "cells": [
    {
      "cell_type": "markdown",
      "metadata": {
        "id": "view-in-github",
        "colab_type": "text"
      },
      "source": [
        "<a href=\"https://colab.research.google.com/github/shahlashahla584/Giaiccolab-projects/blob/main/madlibs.ipynb\" target=\"_parent\"><img src=\"https://colab.research.google.com/assets/colab-badge.svg\" alt=\"Open In Colab\"/></a>"
      ]
    },
    {
      "cell_type": "code",
      "execution_count": null,
      "metadata": {
        "colab": {
          "base_uri": "https://localhost:8080/"
        },
        "id": "185lZgfk4djl",
        "outputId": "d101c904-8c04-489c-e4b1-3b3f765aa7b5"
      },
      "outputs": [
        {
          "output_type": "stream",
          "name": "stdout",
          "text": [
            "subscribe to kylie ying\n",
            "subscribr to kylie ying\n",
            "subscribe to kylie ying\n",
            "Adjective:amazing\n",
            "verb:skydive\n",
            "verb:jump\n",
            "Famous person:captain America\n",
            " Computer programing is so amazing! It makes me so excited all the time because I love to skydive. stay Hydrated and jump like you are captain America!\n"
          ]
        }
      ],
      "source": [
        "# string concatenation (aka how to put string together)\n",
        "# suppose we want to create astring that says \"subscribe to ___\"\n",
        "youtuber = \"kylie ying\"# some string variable\n",
        "\n",
        "# a few ways to do this\n",
        "print (\"subscribe to \" + youtuber)\n",
        "print(\"subscribr to {}\" .format(youtuber))\n",
        "print(f\"subscribe to {youtuber}\")\n",
        "\n",
        "adj = input(\"Adjective:\")\n",
        "verb1 = input(\"verb:\")\n",
        "verb2 = input(\"verb:\")\n",
        "famous_person = input(\"Famous person:\")\n",
        "\n",
        "madlib = f\" Computer programing is so {adj}! It makes me so excited all the time because \\\n",
        "I love to {verb1}. stay Hydrated and {verb2} like you are {famous_person}!\"\n",
        "\n",
        "print(madlib)\n",
        "\n",
        "\n"
      ]
    }
  ],
  "metadata": {
    "colab": {
      "provenance": [],
      "authorship_tag": "ABX9TyORJtuKmGjUl6mPjK6IHubx",
      "include_colab_link": true
    },
    "kernelspec": {
      "display_name": "Python 3",
      "name": "python3"
    },
    "language_info": {
      "name": "python"
    }
  },
  "nbformat": 4,
  "nbformat_minor": 0
}